{
 "cells": [
  {
   "cell_type": "code",
   "execution_count": 1,
   "id": "53f0f5e6-a1e7-408f-9446-062d535c8c1a",
   "metadata": {},
   "outputs": [],
   "source": [
    "import pickle"
   ]
  },
  {
   "cell_type": "code",
   "execution_count": 3,
   "id": "a6ca49b4-92c7-4d9d-9cf8-30f8ae08cf6a",
   "metadata": {},
   "outputs": [
    {
     "name": "stderr",
     "output_type": "stream",
     "text": [
      "C:\\Anaconda\\Lib\\site-packages\\sklearn\\base.py:493: UserWarning: X does not have valid feature names, but LinearRegression was fitted with feature names\n",
      "  warnings.warn(\n"
     ]
    }
   ],
   "source": [
    "loaded_model=pickle.load(open(\"Finalized_Multiple_Linear_Model_profit_Prediction.sav\",'rb'))\n",
    "result=loaded_model.predict([[14567,23456,89000,1,0]])"
   ]
  },
  {
   "cell_type": "code",
   "execution_count": null,
   "id": "abc4200e-b2a5-4bf1-a6ad-735888eb309d",
   "metadata": {},
   "outputs": [],
   "source": []
  }
 ],
 "metadata": {
  "kernelspec": {
   "display_name": "Python 3 (ipykernel)",
   "language": "python",
   "name": "python3"
  },
  "language_info": {
   "codemirror_mode": {
    "name": "ipython",
    "version": 3
   },
   "file_extension": ".py",
   "mimetype": "text/x-python",
   "name": "python",
   "nbconvert_exporter": "python",
   "pygments_lexer": "ipython3",
   "version": "3.12.4"
  }
 },
 "nbformat": 4,
 "nbformat_minor": 5
}
